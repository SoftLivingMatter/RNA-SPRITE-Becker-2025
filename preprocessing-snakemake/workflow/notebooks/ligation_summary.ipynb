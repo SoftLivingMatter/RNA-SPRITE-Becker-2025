{
 "cells": [
  {
   "cell_type": "code",
   "execution_count": null,
   "id": "d7da81e7-5dc6-42cc-ae4f-77d621af7d2a",
   "metadata": {
    "tags": []
   },
   "outputs": [],
   "source": [
    "import pandas as pd\n",
    "import seaborn as sns\n",
    "import matplotlib.pyplot as plt\n",
    "import numpy as np"
   ]
  },
  {
   "cell_type": "code",
   "execution_count": null,
   "id": "00585c1e-fb98-4a1d-a964-3c23cd5ff427",
   "metadata": {},
   "outputs": [],
   "source": [
    "fastq_ligation = snakemake.input['ligation']\n",
    "ligation_chart = snakemake.output['ligation']\n",
    "tags_counts = snakemake.input['tags']\n",
    "tags_chart = snakemake.output['tags']"
   ]
  },
  {
   "cell_type": "code",
   "execution_count": null,
   "id": "1295bedc-bffd-4648-83f8-a837784406c7",
   "metadata": {
    "tags": []
   },
   "outputs": [],
   "source": [
    "def read_ligation(filename):\n",
    "    data = pd.read_csv(filename)\n",
    "    barcodes = pd.concat((data['sample'], data.filter(like='barcodes')), axis='columns')\n",
    "    barcodes = barcodes.melt(id_vars='sample', var_name='Barcodes', value_name='Counts')\n",
    "    barcodes['Barcodes'] = barcodes['Barcodes'].str.extract(r'(\\d+)_barcodes').astype(int)\n",
    "    totals = barcodes.groupby('sample').Counts.sum().rename('Percent')\n",
    "    barcodes = barcodes.merge(totals, 'left', on='sample')\n",
    "    barcodes['Percent'] = barcodes['Counts'] / barcodes['Percent'] * 100\n",
    "    \n",
    "    \n",
    "    positions = pd.concat((data['sample'], data.filter(like='in_position')), axis='columns')\n",
    "    positions = positions.melt(id_vars='sample', var_name='Position', value_name='Counts')\n",
    "    positions['Position'] = positions['Position'].str.extract(r'in_position_(\\d+)').astype(int)\n",
    "    positions = positions.merge(totals, 'left', on='sample')\n",
    "    positions['Percent'] = positions['Counts'] / positions['Percent'] * 100\n",
    "    \n",
    "    return barcodes, positions\n",
    "\n",
    "def read_tag_counts(filename):\n",
    "    data = pd.read_csv(filename)\n",
    "    counts = np.zeros((data['position'].max(), 96))\n",
    "    not_found = []\n",
    "    name = []\n",
    "    idx = np.arange(96)+1\n",
    "    for i, (position, dat) in enumerate(data.groupby('position')):\n",
    "        not_found.append(dat.loc[dat.tag == 'NOT_FOUND', 'counts'].iloc[0])\n",
    "        dat = dat[dat.tag != 'NOT_FOUND']\n",
    "        dat = pd.concat((dat, dat['tag'].str.extract(r'^(.*?)(?:_([A-H]))?(\\d{1,2})$')), axis='columns').rename(columns={0: 'name', 1: 'row', 2: 'number'})\n",
    "        dat['number'] = dat['number'].astype(int)\n",
    "    \n",
    "        names = dat.name.unique()\n",
    "        if len(names) == 1:\n",
    "            name.append(names[0])\n",
    "        else:\n",
    "            name.append(\"MULTIPLE\")\n",
    "\n",
    "        dat.sort_values(by=['row', 'number'], inplace=True)\n",
    "        \n",
    "        if not all(dat['row'].isna()):\n",
    "            dat['number'] = dat['number'] + dat['row'].apply(lambda x: 12 * (ord(x) - ord('A')))\n",
    "        counts[i][np.isin(idx, dat['number'])] = dat['counts']\n",
    "    return not_found, name, counts.reshape((data['position'].max(), 8, 12))"
   ]
  },
  {
   "cell_type": "code",
   "execution_count": null,
   "id": "b42d0f6f-e6ca-49a7-adeb-c8f5a2284ec8",
   "metadata": {
    "tags": []
   },
   "outputs": [],
   "source": [
    "# plot ligation efficiencies\n",
    "barcodes, positions = read_ligation(fastq_ligation)\n",
    "\n",
    "fig, axes = plt.subplots(1, 2, figsize=(12, 5))\n",
    "sns.barplot(data=barcodes, x='Barcodes', y='Percent', ax=axes[0])\n",
    "sns.barplot(data=positions, x='Position', y='Percent', ax=axes[1])\n",
    "fig.savefig(ligation_chart)"
   ]
  },
  {
   "cell_type": "code",
   "execution_count": null,
   "id": "f8d3869e-b38a-4e9a-ab9c-4bf340af76c9",
   "metadata": {
    "tags": []
   },
   "outputs": [],
   "source": [
    "# plot the tag counts as a function of well position\n",
    "not_founds, names, counts = read_tag_counts(tags_counts)\n",
    "num_rows = int(np.ceil(len(not_founds) / 2))\n",
    "fig, axes = plt.subplots(num_rows, 2, figsize=(14, 3 * num_rows + 2))\n",
    "for not_found, name, cnts, ax in zip(not_founds, names, counts, axes.flatten()):\n",
    "    sns.heatmap(cnts, xticklabels=list(range(1,13)), yticklabels='ABCDEFGH', ax=ax)\n",
    "    ax.set_title(f'{name}, {not_found} missing')\n",
    "fig.savefig(tags_chart)"
   ]
  },
  {
   "cell_type": "code",
   "execution_count": null,
   "id": "6cc41f9f-54bd-4e52-9154-08cd5f858028",
   "metadata": {},
   "outputs": [],
   "source": []
  }
 ],
 "metadata": {
  "kernelspec": {
   "display_name": "Python 3 (ipykernel)",
   "language": "python",
   "name": "python3"
  },
  "language_info": {
   "codemirror_mode": {
    "name": "ipython",
    "version": 3
   },
   "file_extension": ".py",
   "mimetype": "text/x-python",
   "name": "python",
   "nbconvert_exporter": "python",
   "pygments_lexer": "ipython3",
   "version": "3.9.16"
  }
 },
 "nbformat": 4,
 "nbformat_minor": 5
}
